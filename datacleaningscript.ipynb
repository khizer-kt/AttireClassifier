{
 "cells": [
  {
   "cell_type": "code",
   "execution_count": 3,
   "metadata": {},
   "outputs": [
    {
     "name": "stdout",
     "output_type": "stream",
     "text": [
      "Deleted: 1850-14970.webp\n",
      "Deleted: 3e3c1bd1e67d49d126e3ba4785b0dad6.jpg_750x400.jpg_.webp\n",
      "Deleted: The-history-and-culture-of-the-Kalash-people-1024x714.webp\n",
      "Deleted: vector.svg\n",
      "Deleted: vector10.svg\n",
      "Deleted: vector11.svg\n",
      "Deleted: vector12.svg\n",
      "Deleted: vector13.svg\n",
      "Deleted: vector14.svg\n",
      "Deleted: vector15.svg\n",
      "Deleted: vector16.svg\n",
      "Deleted: vector2.svg\n",
      "Deleted: vector3.svg\n",
      "Deleted: vector4.svg\n",
      "Deleted: vector5.svg\n",
      "Deleted: vector6.svg\n",
      "Deleted: vector7.svg\n",
      "Deleted: vector8.svg\n",
      "Deleted: vector9.svg\n"
     ]
    }
   ],
   "source": [
    "import os\n",
    "data_dir = 'data/kalash'\n",
    "image_exts = ['jpeg', 'jpg', 'bmp', 'png']\n",
    "def delete_non_image_files(directory, allowed_extensions):\n",
    "    for filename in os.listdir(directory):\n",
    "        file_path = os.path.join(directory, filename)\n",
    "        if os.path.isfile(file_path):\n",
    "            _, file_extension = os.path.splitext(filename)\n",
    "            if file_extension[1:].lower() not in allowed_extensions:\n",
    "                os.remove(file_path)\n",
    "                print(f\"Deleted: {filename}\")\n",
    "delete_non_image_files(data_dir, image_exts)\n"
   ]
  }
 ],
 "metadata": {
  "kernelspec": {
   "display_name": "Python 3",
   "language": "python",
   "name": "python3"
  },
  "language_info": {
   "codemirror_mode": {
    "name": "ipython",
    "version": 3
   },
   "file_extension": ".py",
   "mimetype": "text/x-python",
   "name": "python",
   "nbconvert_exporter": "python",
   "pygments_lexer": "ipython3",
   "version": "3.10.0"
  }
 },
 "nbformat": 4,
 "nbformat_minor": 2
}
